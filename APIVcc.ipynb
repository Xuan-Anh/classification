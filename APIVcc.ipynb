{
  "nbformat": 4,
  "nbformat_minor": 0,
  "metadata": {
    "colab": {
      "name": "APIVcc.ipynb",
      "provenance": [],
      "collapsed_sections": [],
      "machine_shape": "hm"
    },
    "kernelspec": {
      "display_name": "Python 3",
      "name": "python3"
    }
  },
  "cells": [
    {
      "cell_type": "markdown",
      "metadata": {
        "id": "lP4u2qd4KdwU"
      },
      "source": [
        "## Phần 1\n",
        "Xử lý dữ liệu đầu vào "
      ]
    },
    {
      "cell_type": "markdown",
      "metadata": {
        "id": "SKL8JqpIOtmC"
      },
      "source": [
        "###Load du lieu"
      ]
    },
    {
      "cell_type": "code",
      "metadata": {
        "colab": {
          "base_uri": "https://localhost:8080/"
        },
        "id": "Nk3q4TXQGnRZ",
        "outputId": "3187df91-8be9-4b31-f25e-460473cb8edf"
      },
      "source": [
        "from google.colab import drive\n",
        "drive.mount('/content/drive')"
      ],
      "execution_count": null,
      "outputs": [
        {
          "output_type": "stream",
          "text": [
            "Mounted at /content/drive\n"
          ],
          "name": "stdout"
        }
      ]
    },
    {
      "cell_type": "code",
      "metadata": {
        "colab": {
          "base_uri": "https://localhost:8080/"
        },
        "id": "ri3TVlboiyAD",
        "outputId": "2bb29c9b-fd2c-413f-d2bd-23b1b2121644"
      },
      "source": [
        "!pip install pyvi\n",
        "!pip install flask-ngrok"
      ],
      "execution_count": null,
      "outputs": [
        {
          "output_type": "stream",
          "text": [
            "Collecting pyvi\n",
            "\u001b[?25l  Downloading https://files.pythonhosted.org/packages/10/e1/0e5bc6b5e3327b9385d6e0f1b0a7c0404f28b74eb6db59a778515b30fd9c/pyvi-0.1-py2.py3-none-any.whl (8.5MB)\n",
            "\u001b[K     |████████████████████████████████| 8.5MB 3.7MB/s \n",
            "\u001b[?25hCollecting sklearn-crfsuite\n",
            "  Downloading https://files.pythonhosted.org/packages/25/74/5b7befa513482e6dee1f3dd68171a6c9dfc14c0eaa00f885ffeba54fe9b0/sklearn_crfsuite-0.3.6-py2.py3-none-any.whl\n",
            "Requirement already satisfied: scikit-learn in /usr/local/lib/python3.7/dist-packages (from pyvi) (0.22.2.post1)\n",
            "Requirement already satisfied: six in /usr/local/lib/python3.7/dist-packages (from sklearn-crfsuite->pyvi) (1.15.0)\n",
            "Requirement already satisfied: tqdm>=2.0 in /usr/local/lib/python3.7/dist-packages (from sklearn-crfsuite->pyvi) (4.41.1)\n",
            "Requirement already satisfied: tabulate in /usr/local/lib/python3.7/dist-packages (from sklearn-crfsuite->pyvi) (0.8.9)\n",
            "Collecting python-crfsuite>=0.8.3\n",
            "\u001b[?25l  Downloading https://files.pythonhosted.org/packages/79/47/58f16c46506139f17de4630dbcfb877ce41a6355a1bbf3c443edb9708429/python_crfsuite-0.9.7-cp37-cp37m-manylinux1_x86_64.whl (743kB)\n",
            "\u001b[K     |████████████████████████████████| 747kB 50.8MB/s \n",
            "\u001b[?25hRequirement already satisfied: joblib>=0.11 in /usr/local/lib/python3.7/dist-packages (from scikit-learn->pyvi) (1.0.1)\n",
            "Requirement already satisfied: numpy>=1.11.0 in /usr/local/lib/python3.7/dist-packages (from scikit-learn->pyvi) (1.19.5)\n",
            "Requirement already satisfied: scipy>=0.17.0 in /usr/local/lib/python3.7/dist-packages (from scikit-learn->pyvi) (1.4.1)\n",
            "Installing collected packages: python-crfsuite, sklearn-crfsuite, pyvi\n",
            "Successfully installed python-crfsuite-0.9.7 pyvi-0.1 sklearn-crfsuite-0.3.6\n",
            "Collecting flask-ngrok\n",
            "  Downloading https://files.pythonhosted.org/packages/af/6c/f54cb686ad1129e27d125d182f90f52b32f284e6c8df58c1bae54fa1adbc/flask_ngrok-0.0.25-py3-none-any.whl\n",
            "Requirement already satisfied: requests in /usr/local/lib/python3.7/dist-packages (from flask-ngrok) (2.23.0)\n",
            "Requirement already satisfied: Flask>=0.8 in /usr/local/lib/python3.7/dist-packages (from flask-ngrok) (1.1.2)\n",
            "Requirement already satisfied: urllib3!=1.25.0,!=1.25.1,<1.26,>=1.21.1 in /usr/local/lib/python3.7/dist-packages (from requests->flask-ngrok) (1.24.3)\n",
            "Requirement already satisfied: idna<3,>=2.5 in /usr/local/lib/python3.7/dist-packages (from requests->flask-ngrok) (2.10)\n",
            "Requirement already satisfied: certifi>=2017.4.17 in /usr/local/lib/python3.7/dist-packages (from requests->flask-ngrok) (2020.12.5)\n",
            "Requirement already satisfied: chardet<4,>=3.0.2 in /usr/local/lib/python3.7/dist-packages (from requests->flask-ngrok) (3.0.4)\n",
            "Requirement already satisfied: Jinja2>=2.10.1 in /usr/local/lib/python3.7/dist-packages (from Flask>=0.8->flask-ngrok) (2.11.3)\n",
            "Requirement already satisfied: click>=5.1 in /usr/local/lib/python3.7/dist-packages (from Flask>=0.8->flask-ngrok) (7.1.2)\n",
            "Requirement already satisfied: Werkzeug>=0.15 in /usr/local/lib/python3.7/dist-packages (from Flask>=0.8->flask-ngrok) (1.0.1)\n",
            "Requirement already satisfied: itsdangerous>=0.24 in /usr/local/lib/python3.7/dist-packages (from Flask>=0.8->flask-ngrok) (1.1.0)\n",
            "Requirement already satisfied: MarkupSafe>=0.23 in /usr/local/lib/python3.7/dist-packages (from Jinja2>=2.10.1->Flask>=0.8->flask-ngrok) (1.1.1)\n",
            "Installing collected packages: flask-ngrok\n",
            "Successfully installed flask-ngrok-0.0.25\n"
          ],
          "name": "stdout"
        }
      ]
    },
    {
      "cell_type": "code",
      "metadata": {
        "id": "mZLQoEqv-y8x"
      },
      "source": [
        "from pyvi import ViTokenizer, ViPosTagger # thư viện NLP tiếng Việt\n",
        "from tqdm import tqdm\n",
        "import numpy as np\n",
        "import gensim # thư viện NLP\n",
        "content = \"một hau ba bốn nắm sau bảy tám chín 1 23 4 5 65\"\n",
        "X_test = [content]\n",
        "def xuLy(X_data_all):\n",
        "  import numpy as np\n",
        "  X_data_ok = np.array(X_data_all)\n",
        "  X_data_ok.astype('str')\n",
        "  X_data = []\n",
        "  import pandas as pd\n",
        "  import gensim\n",
        "  for line in X_data_ok:\n",
        "    line = gensim.utils.simple_preprocess(line) \n",
        "    line_1 = ' '.join(line)\n",
        "    line_2 = ViTokenizer.tokenize(line_1)\n",
        "    X_data.append(line_2)\n",
        "  return X_data\n",
        "\n",
        "def classify(X_test):\n",
        "  X_test = xuLy(X_test) \n",
        "  import pickle\n",
        "\n",
        "  # tfidf thường\n",
        "  path = open(\"/content/drive/MyDrive/dataVcc/save_tfidf.pkl\", 'rb')\n",
        "  tfidf_vect = pickle.load(path)\n",
        "  X_test_tfidf =  tfidf_vect.transform(X_test)\n",
        "  # tfidf_svd\n",
        "  from sklearn.decomposition import TruncatedSVD\n",
        "\n",
        "  svd = TruncatedSVD(n_components=300, random_state=42)\n",
        "  path = open(\"/content/drive/MyDrive/dataVcc/save_X_data_tfidf.pkl\", 'rb')\n",
        "  X_data_tfidf = pickle.load(path)\n",
        "  svd.fit(X_data_tfidf)\n",
        "  X_test_tfidf_svd = svd.transform(X_test_tfidf)\n",
        "  import pickle\n",
        "  path = open(\"/content/drive/MyDrive/dataVcc/save_mode_xgb_2.pkl\", 'rb')\n",
        "  model = pickle.load(path)\n",
        "  from sklearn import metrics\n",
        "  test_predictions = model.predict(X_test_tfidf_svd)\n",
        "  print(test_predictions)\n",
        "  # import json\n",
        "  # result = json.dumps(test_predictions.tolist())\n",
        "  # return result\n",
        "  return test_predictions\n",
        "\n"
      ],
      "execution_count": null,
      "outputs": []
    },
    {
      "cell_type": "code",
      "metadata": {
        "id": "s6KITGNhPIZ5"
      },
      "source": [
        ""
      ],
      "execution_count": null,
      "outputs": []
    },
    {
      "cell_type": "code",
      "metadata": {
        "colab": {
          "base_uri": "https://localhost:8080/"
        },
        "id": "8JP70K3tO-uG",
        "outputId": "914526bf-9360-4e17-aebd-250f41de3bb3"
      },
      "source": [
        "\n",
        "from flask_ngrok import run_with_ngrok\n",
        "from flask import Flask\n",
        "from flask import jsonify\n",
        "import json\n",
        "app = Flask(__name__)\n",
        "run_with_ngrok(app)   #starts ngrok when the app is run\n",
        "\n",
        "@app.route(\"/ping\")\n",
        "def test(request):\n",
        "  return json({\"hello\": \"world\"})\n",
        "\n",
        "\n",
        "\n",
        "# @app.route('/news_classify', methods=['GET'])\n",
        "# def classification_content(request):\n",
        "#     title = request.args.get(\"title\")\n",
        "#     descriptions = request.args.get(\"descriptions\")\n",
        "#     content = request.args.get(\"content\")\n",
        "#     return \n",
        "@app.route(\"/\", methods = ['GET'])\n",
        "def home():\n",
        "  return jsonify(classify(X_test).tolist())\n",
        "if __name__ == '__main__':\n",
        "    # app.run()\n",
        "  app.run()\n"
      ],
      "execution_count": null,
      "outputs": [
        {
          "output_type": "stream",
          "text": [
            " * Serving Flask app \"__main__\" (lazy loading)\n",
            " * Environment: production\n",
            "\u001b[31m   WARNING: This is a development server. Do not use it in a production deployment.\u001b[0m\n",
            "\u001b[2m   Use a production WSGI server instead.\u001b[0m\n",
            " * Debug mode: off\n"
          ],
          "name": "stdout"
        },
        {
          "output_type": "stream",
          "text": [
            " * Running on http://127.0.0.1:5000/ (Press CTRL+C to quit)\n"
          ],
          "name": "stderr"
        },
        {
          "output_type": "stream",
          "text": [
            " * Running on http://0b47ed292dfb.ngrok.io\n",
            " * Traffic stats available on http://127.0.0.1:4040\n"
          ],
          "name": "stdout"
        },
        {
          "output_type": "stream",
          "text": [
            "127.0.0.1 - - [19/Apr/2021 07:17:47] \"\u001b[37mGET / HTTP/1.1\u001b[0m\" 200 -\n"
          ],
          "name": "stderr"
        },
        {
          "output_type": "stream",
          "text": [
            "[0]\n"
          ],
          "name": "stdout"
        },
        {
          "output_type": "stream",
          "text": [
            "127.0.0.1 - - [19/Apr/2021 07:17:48] \"\u001b[33mGET /favicon.ico HTTP/1.1\u001b[0m\" 404 -\n"
          ],
          "name": "stderr"
        }
      ]
    }
  ]
}